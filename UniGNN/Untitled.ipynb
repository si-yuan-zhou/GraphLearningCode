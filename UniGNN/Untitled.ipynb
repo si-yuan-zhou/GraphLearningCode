{
 "cells": [
  {
   "cell_type": "code",
   "execution_count": 28,
   "id": "24734fbe-6c59-4d45-8be3-d5d739dcb095",
   "metadata": {},
   "outputs": [],
   "source": [
    "import config\n",
    "from prepare import * \n",
    "\n",
    "import sys\n",
    "sys.argv=['']\n",
    "del sys"
   ]
  },
  {
   "cell_type": "code",
   "execution_count": 29,
   "id": "84173c09-c548-4a40-887d-1df2a4c8a56c",
   "metadata": {},
   "outputs": [],
   "source": [
    "args = config.parse()"
   ]
  },
  {
   "cell_type": "code",
   "execution_count": 30,
   "id": "da322601-9d76-4ea1-95c7-286b377bfbaf",
   "metadata": {},
   "outputs": [
    {
     "name": "stdout",
     "output_type": "stream",
     "text": [
      "number of hyperedges is 1072\n"
     ]
    }
   ],
   "source": [
    "#X, Y, G = fetch_data(args)"
   ]
  },
  {
   "cell_type": "code",
   "execution_count": 35,
   "id": "4009e12d-4fdb-4296-9f10-e53d3dce00b8",
   "metadata": {},
   "outputs": [],
   "source": [
    "from data import data"
   ]
  },
  {
   "cell_type": "code",
   "execution_count": 50,
   "id": "d0c42e54-b23e-4266-8601-7100d509ad14",
   "metadata": {},
   "outputs": [
    {
     "name": "stdout",
     "output_type": "stream",
     "text": [
      "number of hyperedges is 1072\n"
     ]
    }
   ],
   "source": [
    "dataset, train_idx, test_idx = data.load(args)\n",
    "X, Y, G = dataset['features'], dataset['labels'], dataset['hypergraph']"
   ]
  },
  {
   "cell_type": "code",
   "execution_count": null,
   "id": "dc421387-7703-424d-8549-7a923e8a5ad0",
   "metadata": {},
   "outputs": [],
   "source": []
  }
 ],
 "metadata": {
  "kernelspec": {
   "display_name": "Python 3 (ipykernel)",
   "language": "python",
   "name": "python3"
  },
  "language_info": {
   "codemirror_mode": {
    "name": "ipython",
    "version": 3
   },
   "file_extension": ".py",
   "mimetype": "text/x-python",
   "name": "python",
   "nbconvert_exporter": "python",
   "pygments_lexer": "ipython3",
   "version": "3.8.10"
  }
 },
 "nbformat": 4,
 "nbformat_minor": 5
}
