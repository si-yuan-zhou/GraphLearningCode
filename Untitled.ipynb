{
 "cells": [
  {
   "cell_type": "code",
   "execution_count": 1,
   "id": "19053023-7ea8-4af6-a478-d940b37d6241",
   "metadata": {},
   "outputs": [],
   "source": [
    "import torch"
   ]
  },
  {
   "cell_type": "code",
   "execution_count": 8,
   "id": "61e600ec-2191-4f4b-b5f1-e30074edb290",
   "metadata": {},
   "outputs": [
    {
     "name": "stdout",
     "output_type": "stream",
     "text": [
      "tensor([[0.4818, 0.6928, 0.5627, 0.0323],\n",
      "        [0.8617, 0.7108, 0.3335, 0.2128],\n",
      "        [0.8633, 0.2931, 0.5410, 0.5540]])\n",
      "tensor([[0., 1., 1., 0.],\n",
      "        [1., 0., 0., 0.],\n",
      "        [1., 0., 0., 1.]])\n"
     ]
    }
   ],
   "source": [
    "h = torch.Tensor([2]*12).reshape(3,4)\n",
    "a = torch.empty((3,4)).uniform_(0,1)\n",
    "print(a)\n",
    "mask = torch.bernoulli(a)\n",
    "print(mask)"
   ]
  },
  {
   "cell_type": "code",
   "execution_count": 9,
   "id": "5ced2c7e-4e4a-424a-b982-2d49b84c8c3a",
   "metadata": {},
   "outputs": [
    {
     "name": "stdout",
     "output_type": "stream",
     "text": [
      "tensor([[2., 2., 2., 2.],\n",
      "        [2., 2., 2., 2.],\n",
      "        [2., 2., 2., 2.]])\n"
     ]
    }
   ],
   "source": [
    "print(h)"
   ]
  }
 ],
 "metadata": {
  "kernelspec": {
   "display_name": "Python 3 (ipykernel)",
   "language": "python",
   "name": "python3"
  },
  "language_info": {
   "codemirror_mode": {
    "name": "ipython",
    "version": 3
   },
   "file_extension": ".py",
   "mimetype": "text/x-python",
   "name": "python",
   "nbconvert_exporter": "python",
   "pygments_lexer": "ipython3",
   "version": "3.8.10"
  }
 },
 "nbformat": 4,
 "nbformat_minor": 5
}
